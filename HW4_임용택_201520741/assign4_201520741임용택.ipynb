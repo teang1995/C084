{
 "cells": [
  {
   "cell_type": "markdown",
   "metadata": {},
   "source": [
    "# Assignement 4: Logistic Regression\n",
    "\n",
    "이번 과제에서는 **logistic regression**을 사용하여 학생들의 입학 가능 여부를 결정하는 모델을 만들어봅시다.\n",
    "\n",
    "여러분은 학생들의 입학 성적을 기반으로 합격 가능성을 분석하는 업무를 받았습니다.\n",
    "학생들은 두 번 시험을 보며, 시험 결과에 따라 입학 여부가 결정이 됩니다.\n",
    "지난 학생들의 시험 및 합격 기록을 참고하여, 새로운 학생의 시험 결과가 주어졌을 때 합격 여부를 판단하는 모델을 만들어보세요.\n",
    "\n",
    "*Dataset from Andrew Ng's coursera lecture*"
   ]
  },
  {
   "cell_type": "code",
   "execution_count": 1,
   "metadata": {},
   "outputs": [],
   "source": [
    "import numpy as np\n",
    "import matplotlib\n",
    "import matplotlib.pyplot as plt"
   ]
  },
  {
   "cell_type": "markdown",
   "metadata": {},
   "source": [
    "## Question 1. 학생들의 이전 기록 데이터를 불러와 train_data에 저장하세요. \n",
    "\n",
    "이전 학생들의 입학 기록 데이터는 ex2data1.txt에 있습니다."
   ]
  },
  {
   "cell_type": "code",
   "execution_count": 2,
   "metadata": {},
   "outputs": [
    {
     "data": {
      "text/plain": [
       "(100, 3)"
      ]
     },
     "execution_count": 2,
     "metadata": {},
     "output_type": "execute_result"
    }
   ],
   "source": [
    "# Put your code\n",
    "train_data = np.loadtxt('ex2data1.txt', delimiter=',')\n",
    "x1 = train_data[:, 0]\n",
    "x2 = train_data[:, 1]\n",
    "y  = train_data[:, 2]\n",
    "train_data.shape"
   ]
  },
  {
   "cell_type": "markdown",
   "metadata": {},
   "source": [
    "## Question 2. 우선 데이터가 어떻게 분포되어 있는지 확인해볼까요? \n",
    "\n",
    "불러온 train_data는 아래와 같이 구성되어 있습니다. (합격인 경우, Admission은 1로 표시합니다.)\n",
    "\n",
    "| Exam 1 | Exam 2 | Admission |\n",
    "| --- | --- | --- |\n",
    "|34.62 | 78.02 | 0 |\n",
    "\n",
    "Exam 1, Exam 2를 각각 x,y 축으로 놓고, Admission의 결과에 따라 1인 경우 파란 삼각형, 0인 경우 노란 사각형으로 표시하세요.([Hint](https://matplotlib.org/3.3.2/gallery/lines_bars_and_markers/scatter_masked.html#sphx-glr-gallery-lines-bars-and-markers-scatter-masked-py))"
   ]
  },
  {
   "cell_type": "code",
   "execution_count": 3,
   "metadata": {},
   "outputs": [
    {
     "data": {
      "image/png": "[encoded data removed]",
      "text/plain": [
       "<Figure size 432x288 with 1 Axes>"
      ]
     },
     "metadata": {
      "needs_background": "light"
     },
     "output_type": "display_data"
    }
   ],
   "source": [
    "y0 = np.where(y == 0)\n",
    "y1 = np.where(y == 1)\n",
    "for y_ in y0:\n",
    "    plt.scatter(x1[y_], x2[y_], color= 'yellow', marker='s')\n",
    "for y_ in y1:\n",
    "    plt.scatter(x1[y_], x2[y_], color='b', marker='^') "
   ]
  },
  {
   "cell_type": "markdown",
   "metadata": {},
   "source": [
    "# Logistic Regression\n",
    "\n",
    "Logistic regression의 중심에는 sigmoid function이 있습니다.\n",
    "sigmoid function g(z)는 다음과 같습니다.\n",
    "\n",
    "$$g(z) = {1 \\over {1 + e^{-z}}}$$"
   ]
  },
  {
   "cell_type": "markdown",
   "metadata": {},
   "source": [
    "## Question 3. Sigmoid function을 구현해보자.\n"
   ]
  },
  {
   "cell_type": "code",
   "execution_count": 4,
   "metadata": {},
   "outputs": [],
   "source": [
    "def sigmoid(z):\n",
    "    return 1/(1 + np.exp(-z))"
   ]
  },
  {
   "cell_type": "code",
   "execution_count": 5,
   "metadata": {},
   "outputs": [
    {
     "data": {
      "text/plain": [
       "0.5"
      ]
     },
     "execution_count": 5,
     "metadata": {},
     "output_type": "execute_result"
    }
   ],
   "source": [
    "sigmoid(0) #DEBUG"
   ]
  },
  {
   "cell_type": "code",
   "execution_count": 6,
   "metadata": {},
   "outputs": [
    {
     "data": {
      "image/png": "[encoded data removed]",
      "text/plain": [
       "<Figure size 432x288 with 1 Axes>"
      ]
     },
     "metadata": {
      "needs_background": "light"
     },
     "output_type": "display_data"
    }
   ],
   "source": [
    "def plot_sigmoid():\n",
    "    x = np.linspace(-20, 20, 100)\n",
    "    plt.plot(x, sigmoid(x))\n",
    "    plt.xlabel('z')\n",
    "    plt.ylabel('g(z)')\n",
    "plot_sigmoid()"
   ]
  },
  {
   "cell_type": "markdown",
   "metadata": {},
   "source": [
    "정상적으로 sigmoid 함수를 구현하였다면, 아래의 그림과 동일한 그래프를 볼 수 있을 것입니다.\n",
    "\n",
    "<img src='figure/sigmoid.png'>\n",
    "\n",
    "이제부터 logistic regression 함수를 살펴봅시다. \n",
    "logistic regression은 주어진 입력 데이터 x에 대해 어떤 클래스 y (1 또는 0)에 속하는지 분류하는 모델로,\n",
    "n개의 파라미터에 대한 모델 $H_{\\theta}(x)$는 다음과 같이 표현됩니다.\n",
    "\n",
    "$$H_{\\theta}(x) = g(z), g(z) = \\sum_{i=0}^{n} \\theta_{i}x_{i} $$\n",
    "$H_{\\theta}(x)$의 의미는 x값이 주어졌을 때, y가 1일 확률을 나타냅니다. \n",
    "$H_{\\theta}(x) > p$를 만족하는 경우 y = 1이라 판단을 하며, 보통 p를 0.5로 두고 사용합니다.\n",
    "\n",
    "sigmoid 그래프를 보면 z값이 0을 기준으로 결과 같이 나뉘어 지는 것을 볼 수 있습니다.\n",
    "logistic regression 모델에서는 학습을 통해 결과적으로 z값을 특정 클래스에 따라 음수와 양수로 맵핑하는 선형함수를 찾게 됩니다."
   ]
  },
  {
   "cell_type": "markdown",
   "metadata": {},
   "source": [
    "## Question 4. Cost Fucntion\n",
    "\n",
    "학습 데이터 m개가 주어졌을 때, 모델 $H_{\\theta}(x)$에 대한 cost function $J(\\theta)$는 아래와 같습니다. \n",
    "\n",
    "$$J(\\theta) = -{1 \\over m} \\sum_{i=1}^m [y^{(i)}logH_{\\theta}(x^{(i)}) + (1-y^{(i)})log(1 - H_{\\theta}(x))]$$\n",
    "\n",
    "위의 cost function은 log-likelihood를 사용하여 구할 수 있습니다 (cost function은 log-likelihood 함수에 -1을 곱하여 얻을 수 있습니다.). 자세한 내용은 수업 슬라이드를 참조하세요.\n",
    "\n",
    "Cost function을 구하시오."
   ]
  },
  {
   "cell_type": "code",
   "execution_count": 7,
   "metadata": {},
   "outputs": [
    {
     "name": "stdout",
     "output_type": "stream",
     "text": [
      "Expected initial cost with 0-value parameters: 0.69.\n",
      "Your cost function returns 0.69.\n",
      "Expected initial cost with parameters [0.09, 0.44, -0.33]: 3.57.\n",
      "Your cost function returns 3.57.\n"
     ]
    }
   ],
   "source": [
    "def cost_function(params, train_data, train_labels):\n",
    "    '''\n",
    "    theta.shape = (3, 1)\n",
    "    train_data.shape = (100, 3)\n",
    "    train_labels.shape = (100, 1)\n",
    "    '''\n",
    "    '''\n",
    "    Input: params, model parameters\n",
    "           train_data, input features\n",
    "           train_labels, input lables\n",
    "    '''\n",
    "    Hx = sigmoid(np.dot(train_data, params)) # Hx.shape = (100, 1)\n",
    "    cost = np.dot(np.transpose(train_labels),np.log(Hx)) + np.dot(1 - np.transpose(train_labels), np.log(1 - Hx))\n",
    "    return -cost.item() / len(train_data)\n",
    "\n",
    "X_ = train_data[:, :2]\n",
    "X = np.concatenate(\n",
    "    (np.ones((train_data.shape[0], 1)), X_), axis=1)\n",
    "y = train_data[:, 2, np.newaxis]\n",
    "def test_cost_function():\n",
    "    theta = np.zeros((X.shape[1], 1))\n",
    "    initial_cost = cost_function(theta, X, y)\n",
    "    print(\"Expected initial cost with 0-value parameters: 0.69.\")\n",
    "    print(\"Your cost function returns %.2f.\" % initial_cost)\n",
    "\n",
    "    test_theta = np.array([0.09, 0.44, -0.33]).reshape(3, 1)\n",
    "    test_cost = cost_function(test_theta, X, y)\n",
    "    print(\"Expected initial cost with parameters [0.09, 0.44, -0.33]: 3.57.\")\n",
    "    print(\"Your cost function returns %.2f.\" % test_cost)\n",
    "test_cost_function()"
   ]
  },
  {
   "cell_type": "markdown",
   "metadata": {},
   "source": [
    "## Question 5. Gradient descent algorithm을 구현하여 모델의 파라미터를 찾고, gradient descent 과정에서 cost function의 변화를 그래프로 출력하세요. (업데이트 회수 niter = 500, learning rate alpha=0.001을 사용하세요.)\n",
    "\n",
    " cost function을 최소화 하는 파라미터 **$\\theta$**를 구하기 위해서 파라미터를 gradient($의 반대 방향으로 업데이트를 해줍니다. ($\\alpha$는 learning rate, $m$은 데이터셋의 크기입니다.)\n",
    "\n",
    "$${\\theta}_j :=  {\\theta}_j - \\alpha {1 \\over m} \\sum_{i=1}^{m} ( H_{\\theta}(x^{(i)}) - y^{(i)} ) x_{j}^{(i)} $$\n",
    "\n",
    "Logistic regression의 gradient는 linear regression과 동일한 exponential family에 속하여, linear regression과 동일한 gradient를 가집니다.\n",
    "\n",
    "위의 알고리즘을 구현하여, 파라미터를 찾으세요.\n"
   ]
  },
  {
   "cell_type": "code",
   "execution_count": 8,
   "metadata": {
    "tags": []
   },
   "outputs": [
    {
     "name": "stdout",
     "output_type": "stream",
     "text": [
      "Expected gradient: [-0.10, -12.01, -11.26]\n",
      "Your gradient result: [-0.10, -12.01, -11.26]\n",
      "Expected model parameters: [-0.03, 0.01, 0.00]\n",
      "Your model parameters: [-0.03, 0.01, 0.00]\n"
     ]
    },
    {
     "data": {
      "text/plain": [
       "[<matplotlib.lines.Line2D at 0x24fbac5b130>]"
      ]
     },
     "execution_count": 8,
     "metadata": {},
     "output_type": "execute_result"
    },
    {
     "data": {
      "image/png": "[encoded data removed]",
      "text/plain": [
       "<Figure size 432x288 with 1 Axes>"
      ]
     },
     "metadata": {
      "needs_background": "light"
     },
     "output_type": "display_data"
    }
   ],
   "source": [
    "def gradient(theta, train_data, train_label):\n",
    "    Hx = sigmoid(np.dot(train_data, theta)) # Hx.shape = (100, 1)\n",
    "    gradient = np.dot(np.transpose(train_data), Hx - train_label)\n",
    "    return gradient / len(train_label)\n",
    "\n",
    "def gradient_nosigmoid(theta, train_data, train_label):\n",
    "    Hx = np.dot(train_data, theta) # Hx.shape = (100, 1)\n",
    "    gradient = np.dot(np.transpose(train_data), Hx - train_label)\n",
    "    return gradient / len(train_label)\n",
    "\n",
    "def compute_gradient_descent(theta, train_data, train_label, alpha=0.01, niter=1500):\n",
    "    costs = []\n",
    "    for _ in range(niter):\n",
    "        cost = cost_function(theta, train_data, train_label)\n",
    "        costs.append(cost)\n",
    "        theta = theta - gradient(theta, train_data, train_label) * alpha \n",
    "    # Put your code\n",
    "    # Put your code\n",
    "    new_theta = theta\n",
    "    return new_theta, costs\n",
    "\n",
    "X_ = train_data[:, :2]\n",
    "X = np.concatenate(\n",
    "    (np.ones((train_data.shape[0], 1)), X_), axis=1)\n",
    "y = train_data[:, 2, np.newaxis]\n",
    "\n",
    "# CONSTANT\n",
    "NITER = 500\n",
    "ALPHA = 0.001\n",
    "\n",
    "print('Expected gradient: [-0.10, -12.01, -11.26]')\n",
    "print('Your gradient result: [%.2f, %.2f, %.2f]' % tuple(*gradient(np.zeros((3, 1)), X, y).T))\n",
    "\n",
    "zero_theta = np.zeros((X.shape[1], 1))\n",
    "new_theta, costs = compute_gradient_descent(zero_theta, X, y, ALPHA, NITER)\n",
    "print('Expected model parameters: [-0.03, 0.01, 0.00]')\n",
    "print('Your model parameters: [%.2f, %.2f, %.2f]' % tuple(*new_theta.T))\n",
    "\n",
    "plt.plot(range(NITER), costs)"
   ]
  },
  {
   "cell_type": "markdown",
   "metadata": {},
   "source": [
    "## Question 6. 주어진 데이터의 클래스를 구분 하는 선 (decision boundary)를 구하고, 데이터와 함께 그려서, 해당 선을 기준으로 데이터가 적절히 구분되는지 확인하세요. 데이터가 제대로 구분지어 지지 않는다면, gradient decision의 iteration을 100000으로 늘려서 시도해보세요.\n",
    "\n",
    "모델 $H\\_theta(x) = g(z)$에서 z >= 0, z < 0으로 입력 x에 대한 class를 결정하게 됩니다. 따라서 decision boundary는 z = 0이 됩니다. 해당 식을 그래프로 그려서 데이터를 구분 짓는지 확인해보세요."
   ]
  },
  {
   "cell_type": "code",
   "execution_count": 9,
   "metadata": {},
   "outputs": [
    {
     "data": {
      "image/png": "[encoded data removed]",
      "text/plain": [
       "<Figure size 432x288 with 2 Axes>"
      ]
     },
     "metadata": {
      "needs_background": "light"
     },
     "output_type": "display_data"
    }
   ],
   "source": [
    "# Implement decision boundary\n",
    "def decision_boundary(params, xrange):\n",
    "    # Input: params - model parameters\n",
    "    Xs = np.arange(int(xrange[0]), int(xrange[1]), 0.1)  #: xrange - x-axis's range\n",
    "    Ys = [-params[1] * x/ params[2] - params[0]/params[2] for x in Xs] \n",
    "    plt.plot(Xs, Ys)\n",
    "new_theta_500, _ = compute_gradient_descent(zero_theta, X, y, ALPHA, 500)\n",
    "new_theta_100000, _ = compute_gradient_descent(zero_theta, X, y, ALPHA, 100000)\n",
    "\n",
    "x1 = train_data[:, 0]\n",
    "x2 = train_data[:, 1]\n",
    "ax = plt.subplot(121)\n",
    "ax.set_title('iter 500')\n",
    "y0 = np.where(y == 0)\n",
    "y1 = np.where(y == 1)\n",
    "for y_ in y0:\n",
    "    plt.scatter(x1[y_], x2[y_], color= 'yellow', marker='s')\n",
    "for y_ in y1:\n",
    "    plt.scatter(x1[y_], x2[y_], color='b', marker='^') \n",
    "decision_boundary(new_theta_500.flatten(), [30,100])\n",
    "ax = plt.subplot(122)\n",
    "ax.set_title('iter 100000')\n",
    "for y_ in y0:\n",
    "    plt.scatter(x1[y_], x2[y_], color= 'yellow', marker='s')\n",
    "for y_ in y1:\n",
    "    plt.scatter(x1[y_], x2[y_], color='b', marker='^') \n",
    "decision_boundary(new_theta_100000.flatten(), [30,100])"
   ]
  },
  {
   "cell_type": "markdown",
   "metadata": {
    "pycharm": {
     "name": "#%% md\n"
    }
   },
   "source": [
    "## Question 7. Newton's Method로 모델의 파라미터를 찾아보세요. 각 iteration에서 cost function이 어떻게 변하는지 그래프로 그려 확인해보세요. Question 4에서 구한 cost function의 변화와 어떻게 다른지 확인해보세요. 찾은 파라미터로 decision boundary를 question 5에서 처럼 그려서 확인해보세요.\n",
    "\n",
    "Newton's method는 함수의 최소값을 찾을 때 쓰는 방법 중 하나로, feature의 수가 작을 때, 적은 수의 iteration으로 최적의 파라미터를 구할 수 있습니다.\n",
    "\n",
    "$$ \\theta := \\theta - (Hess J)_{\\theta}^{-1} * \\bigtriangledown_{\\theta}J(\\theta) $$\n",
    "\n",
    "$$ (Hess J)_{\\theta_{i,j}} = {{\\partial^2 J} \\over {\\partial \\theta_{i} \\partial \\theta_{j}}} $$\n",
    "\n",
    "**Hint** \n",
    "Hessian matrix (second-order partial derivative)를 구하는 방법에는 여러가지 방법이 있습니다.\n",
    "- Second-order partial derviative 식을 직접 구하기\n",
    "- Finite difference를 활용하는 방법\n",
    "\n",
    "컴퓨터에서는 미분을 직접 구하기 힘들 경우, finite difference를 활용하여 계산합니다.\n",
    "$gradient(t + \\epsilon) - gradient(t) \\over \\epsilon$(\\epsilon = 10^{-5}와 같이 작은 수)를 second-order partial derivative의 근사값으로 취급하여 사용하면 됩니다.\n",
    "이와 관련해서 더 자세한 내용이 궁금하다면, [link](https://en.wikipedia.org/wiki/Finite_difference)를 참조하세요.\n"
   ]
  },
  {
   "cell_type": "code",
   "execution_count": 10,
   "metadata": {
    "pycharm": {
     "name": "#%%\n"
    },
    "tags": []
   },
   "outputs": [
    {
     "data": {
      "image/png": "[encoded data removed]",
      "text/plain": [
       "<Figure size 432x288 with 2 Axes>"
      ]
     },
     "metadata": {
      "needs_background": "light"
     },
     "output_type": "display_data"
    }
   ],
   "source": [
    "## Question 6. Decision boundary\n",
    "def newton_method(theta, train_data, train_label):\n",
    "    Hx = sigmoid(np.dot(train_data, theta)) # Hx.shape = (100, 1)\n",
    "    len_data = train_data.shape[0]\n",
    "    R = np.zeros((len_data, len_data))\n",
    "    for i in range(len_data):\n",
    "        R[i][i] = Hx[i] * (1 - Hx[i])\n",
    "    Hessian = np.transpose(train_data) @ R @ train_data    \n",
    "    new_theta = theta - np.dot(np.linalg.inv(Hessian), gradient(theta, train_data, train_label))\n",
    "    return new_theta\n",
    "    \n",
    "niter = 1000\n",
    "newton_costs = []\n",
    "theta = zero_theta\n",
    "for i in range(niter):\n",
    "    new_theta = newton_method(theta, X, y)\n",
    "    cost = cost_function(new_theta, X, y)\n",
    "    newton_costs.append(cost)\n",
    "    theta = new_theta   \n",
    "\n",
    "ax = plt.subplot(121)\n",
    "ax.plot(range(niter), newton_costs)\n",
    "ax.set_title('cost function')\n",
    "ax.set_xlabel('iter')\n",
    "ax.set_ylabel('cost')\n",
    "ax = plt.subplot(122)\n",
    "ax.set_title('decision boundary')\n",
    "y0 = np.where(y == 0)\n",
    "y1 = np.where(y == 1)\n",
    "for y_ in y0:\n",
    "    plt.scatter(x1[y_], x2[y_], color= 'orange', marker='s')\n",
    "for y_ in y1:\n",
    "    plt.scatter(x1[y_], x2[y_], color='b', marker='^') \n",
    "decision_boundary(new_theta.flatten(), [30,100])"
   ]
  },
  {
   "cell_type": "markdown",
   "metadata": {
    "pycharm": {
     "name": "#%% md\n"
    }
   },
   "source": [
    "## Question 8. Regularization을 사용하여 다음의 모델을 주어진 데이터(traindata.txt)에 맞춰 학습해봅시다. Regularization parameter를 변화하여 주어진 다양한 모델을 만들어보고 추가된 테스트 데이터(testdata.txt)에 대해서 정확도가 어떻게 되는지 그래프를 그려서 확인해봅시다.\n",
    "\n",
    "$$ H_\\theta(x) = \\theta_0 + \\theta_1 * x + \\theta_2 * x ^ 2 + \\theta_3 * x ^ 3 + \\theta_4 * x ^ 4 + \\theta_5 * x ^ 5 $$\n",
    "\n",
    "Regularization을 사용하였을 때의 cost function과 gradient는 다음과 같습니다. Regularization의 목표는 feature의 영향을 줄이는 방향으로 최적화하는 것이므로, cost function의 regularization term에서는 $\\theta_0$가 제외됩니다. 이에 따라, gradient는 j=0인 경우와 아닌 경우로 나누어 계산합니다. \n",
    "\n",
    "Cost function $$ J(\\theta) = \\frac{1}{2m}[\\sum_{i=1}^{m} (H_\\theta(x^{(i)}) - y^{(i)})^{2} + \\lambda \\sum_{j=1}^{n}\\theta_{j}^{2}] $$\n",
    "\n",
    "Gradient $ \\frac{\\partial J}{\\partial \\theta_j} $\n",
    "\n",
    "$$ \\frac{1}{m}\\sum_{i=1}^{m} (H_\\theta(x^{(i)}) - y^{(i)})x_j^{i} + \\frac{1}{m} \\lambda \\theta_j $$ \n",
    "\n",
    "$$\\frac{1}{m}\\sum_{i=1}^{m} (H_\\theta(x^{(i)}) - y^{(i)})x_0^{i}$$\n",
    "\n",
    "\n",
    "Regulariation 정도를 조절하는 hyperparameter $\\lambda$를 조절하며, 모델의 정확도가 어떻게 되는지 확인해보세요.\n",
    "\n",
    "이번 문제에서는 구현의 편의성을 위해 scipy의 optimize 모듈을 사용하도록 합시다. optimize.minimize [link](https://docs.scipy.org/doc/scipy/reference/optimize.html) 함수를 사용하여 주어진 함수를 최소화하는 파라미터를 구할 수 있습니다.\n",
    "\n",
    "scipy.optimize.minimize([link])(https://docs.scipy.org/doc/scipy/reference/generated/scipy.optimize.minimize.html#scipy.optimize.minimize)는 다음의 인자가 필요합니다. 보다 자세한 내용은 링크를 참조하세요.\n",
    "\n",
    "- costFunction: 파라미터를 입력 받아 계산하는 함수입니다. 파라미터는 1차원의 array 형태로 넘겨줍니다. 즉,  costfunction의 theta를 row vector로 표현해야 합니다.\n",
    "- initial_theta: costFunction의 초기 파라미터입니다. (row vector)\n",
    "- args: (X, y, ...), 파라미터를 제외한 costFunction이 전달받을 인자입니다. 아래 코드에서는 입력데이터, 레이블, regularization parameter rp, 이렇게 (X, y, rp) 튜플을 사용합니다.\n",
    "- jac: costFunction이 gradient를 cost값과 함께 반환하는지 여부의미\n",
    "- method: optimization 방법\n",
    "- options: 여러 변수들을 dictionary 형태로 전달, 아래에서는 maxiter를 사용하여 최대 iteration 회수를 지정하는데 사용합니다.\n",
    "\n",
    "아래에 scipy.optimize 함수 사용 예시와 그래프 그리는 코드가 포함되어 있습니다. 코드를 살펴보고 필요한 기능들을 구현하여, regularization hyperparameter의 변화에 따라 모델이 어떻게 변하는지 확인하고, Regularization이 어떤 역할을 하는지 기술해주세요 (overfitting, underfitting이 언제 발생하나요?)"
   ]
  },
  {
   "cell_type": "code",
   "execution_count": 75,
   "metadata": {
    "scrolled": true
   },
   "outputs": [
    {
     "name": "stdout",
     "output_type": "stream",
     "text": [
      "grad[0] :  [-42.10549367]\n",
      "Grad :  [[-4.21054937e+01]\n",
      " [-2.62288434e+02]\n",
      " [-1.20841594e+05]\n",
      " [-5.38364253e+09]\n",
      " [-2.31926911e+16]\n",
      " [-9.11748320e+24]]\n",
      "(array([1226.37326001]), array([-4.21054937e+01, -2.62288434e+02, -1.20841594e+05, -5.38364253e+09,\n",
      "       -2.31926911e+16, -9.11748320e+24]))\n",
      "grad[0] :  [-42.10549367]\n",
      "Grad :  [[-4.21054937e+01]\n",
      " [-2.62288434e+02]\n",
      " [-1.20841594e+05]\n",
      " [-5.38364253e+09]\n",
      " [-2.31926911e+16]\n",
      " [-9.11748320e+24]]\n",
      "grad[0] :  [1.45031699e+15]\n",
      "Grad :  [[1.45031699e+15]\n",
      " [1.31062361e+16]\n",
      " [9.70870886e+18]\n",
      " [5.94016665e+23]\n",
      " [3.01711801e+30]\n",
      " [1.27288279e+39]]\n",
      "grad[0] :  [-31.7170739]\n",
      "Grad :  [[-3.17170739e+01]\n",
      " [-1.68410281e+02]\n",
      " [-5.12994566e+04]\n",
      " [-1.12878343e+09]\n",
      " [-1.58149270e+15]\n",
      " [-8.48336786e+16]]\n",
      "grad[0] :  [-42.10549367]\n",
      "Grad :  [[-4.21054937e+01]\n",
      " [-2.62288434e+02]\n",
      " [-1.20841594e+05]\n",
      " [-5.38364253e+09]\n",
      " [-2.31926911e+16]\n",
      " [-9.11748320e+24]]\n",
      "grad[0] :  [1.45031699e+15]\n",
      "Grad :  [[1.45031699e+15]\n",
      " [1.31062361e+16]\n",
      " [9.70870886e+18]\n",
      " [5.94016665e+23]\n",
      " [3.01711801e+30]\n",
      " [1.27288279e+39]]\n",
      "grad[0] :  [-31.7170739]\n",
      "Grad :  [[-3.17170739e+01]\n",
      " [-1.68410281e+02]\n",
      " [-5.12994566e+04]\n",
      " [-1.12878343e+09]\n",
      " [-1.58149270e+15]\n",
      " [-8.48336786e+16]]\n",
      "grad[0] :  [-42.10549367]\n",
      "Grad :  [[-4.21054937e+01]\n",
      " [-2.62288434e+02]\n",
      " [-1.20841594e+05]\n",
      " [-5.38364253e+09]\n",
      " [-2.31926911e+16]\n",
      " [-9.11748320e+24]]\n",
      "grad[0] :  [1.45031699e+15]\n",
      "Grad :  [[1.45031699e+15]\n",
      " [1.31062361e+16]\n",
      " [9.70870886e+18]\n",
      " [5.94016665e+23]\n",
      " [3.01711801e+30]\n",
      " [1.27288279e+39]]\n",
      "grad[0] :  [-31.7170739]\n",
      "Grad :  [[-3.17170739e+01]\n",
      " [-1.68410281e+02]\n",
      " [-5.12994566e+04]\n",
      " [-1.12878343e+09]\n",
      " [-1.58149270e+15]\n",
      " [-8.48336786e+16]]\n",
      "grad[0] :  [-42.10549367]\n",
      "Grad :  [[-4.21054937e+01]\n",
      " [-2.62288434e+02]\n",
      " [-1.20841594e+05]\n",
      " [-5.38364253e+09]\n",
      " [-2.31926911e+16]\n",
      " [-9.11748320e+24]]\n",
      "grad[0] :  [1.45031699e+15]\n",
      "Grad :  [[1.45031699e+15]\n",
      " [1.31062361e+16]\n",
      " [9.70870886e+18]\n",
      " [5.94016665e+23]\n",
      " [3.01711801e+30]\n",
      " [1.27288279e+39]]\n",
      "grad[0] :  [-31.7170739]\n",
      "Grad :  [[-3.17170739e+01]\n",
      " [-1.68410281e+02]\n",
      " [-5.12994566e+04]\n",
      " [-1.12878343e+09]\n",
      " [-1.58149270e+15]\n",
      " [-8.48336786e+16]]\n",
      "grad[0] :  [-42.10549367]\n",
      "Grad :  [[-4.21054937e+01]\n",
      " [-2.62288434e+02]\n",
      " [-1.20841594e+05]\n",
      " [-5.38364253e+09]\n",
      " [-2.31926911e+16]\n",
      " [-9.11748320e+24]]\n",
      "grad[0] :  [1.45031699e+15]\n",
      "Grad :  [[1.45031699e+15]\n",
      " [1.31062361e+16]\n",
      " [9.70870886e+18]\n",
      " [5.94016665e+23]\n",
      " [3.01711801e+30]\n",
      " [1.27288279e+39]]\n",
      "grad[0] :  [-31.7170739]\n",
      "Grad :  [[-3.17170739e+01]\n",
      " [-1.68410281e+02]\n",
      " [-5.12994566e+04]\n",
      " [-1.12878343e+09]\n",
      " [-1.58149270e+15]\n",
      " [-8.48336786e+16]]\n",
      "grad[0] :  [-42.10549367]\n",
      "Grad :  [[-4.21054937e+01]\n",
      " [-2.62288434e+02]\n",
      " [-1.20841594e+05]\n",
      " [-5.38364253e+09]\n",
      " [-2.31926911e+16]\n",
      " [-9.11748320e+24]]\n",
      "grad[0] :  [1.45031699e+15]\n",
      "Grad :  [[1.45031699e+15]\n",
      " [1.31062361e+16]\n",
      " [9.70870886e+18]\n",
      " [5.94016665e+23]\n",
      " [3.01711801e+30]\n",
      " [1.27288279e+39]]\n",
      "grad[0] :  [-31.7170739]\n",
      "Grad :  [[-3.17170739e+01]\n",
      " [-1.68410281e+02]\n",
      " [-5.12994566e+04]\n",
      " [-1.12878343e+09]\n",
      " [-1.58149270e+15]\n",
      " [-8.48336786e+16]]\n"
     ]
    },
    {
     "data": {
      "image/png": "[encoded data removed]",
      "text/plain": [
       "<Figure size 720x576 with 12 Axes>"
      ]
     },
     "metadata": {
      "needs_background": "light"
     },
     "output_type": "display_data"
    }
   ],
   "source": [
    "##########################################################\n",
    "# Utility Functions\n",
    "def gen_X(x, n_feature=5):\n",
    "    data = [np.ones(x.shape)]\n",
    "    for i in range(5):\n",
    "        data.append(np.power(x, i+1))\n",
    "    return np.stack(data, axis=-1)\n",
    "##########################################################\n",
    "# Test and train data\n",
    "\n",
    "train_data = np.loadtxt('traindata.txt', delimiter=',')\n",
    "test_data = np.loadtxt('testdata.txt', delimiter=',')\n",
    "\n",
    "##########################################################\n",
    "'''\n",
    "def gradient_nosigmoid(theta, train_data, train_label):\n",
    "    Hx = np.dot(train_data, theta) # Hx.shape = (100, 1)\n",
    "    gradient = np.dot(np.transpose(train_data), Hx - train_label)\n",
    "    return gradient / len(train_label)\n",
    "'''\n",
    "def cost_function(theta, X, y, reg_param=250):\n",
    "    # theta.shape = (6, 1), Hx.shape = (10, 1), X.shape = (10, 6)\n",
    "    len_theta = len(theta)\n",
    "    theta = theta.reshape((len_theta, 1))\n",
    "    theta0 = theta[0].item()\n",
    "    theta_non0 = theta[1:len_theta]\n",
    "    lenX = X.shape[0]\n",
    "    Hx = np.zeros((lenX, 1), dtype='float32')\n",
    "    for i in range(lenX):\n",
    "        for j in range(len_theta):\n",
    "            Hx[i] += pow(X[i][j], j) * theta[j]\n",
    "    cost = 0\n",
    "    cost = sum((Hx - y) * (Hx - y)) / (2 * lenX) + reg_param * sum(theta_non0 * theta_non0)/ (2*lenX)\n",
    "    grad = np.zeros((len_theta, 1))\n",
    "    for i in range(lenX):\n",
    "        grad[0] += (Hx - y)[i] / lenX\n",
    "    print(\"grad[0] : \", grad[0])\n",
    "    for j in range(1, len_theta):\n",
    "        for i in range(lenX):\n",
    "            grad[j] += (Hx - y)[i] * pow(X[i][j], j) / lenX\n",
    "        grad[j] += reg_param * theta[j] / lenX\n",
    "    print(\"Grad : \", grad)\n",
    "    return cost, grad.flatten()\n",
    "    #return cost, gradient.flatten()\n",
    "print(cost_function(np.zeros(n), X, y, 0))\n",
    "X = gen_X(train_data[:,0], 5)\n",
    "y = train_data[:,1,np.newaxis]\n",
    "\n",
    "# Optimization\n",
    "from scipy import optimize\n",
    "options = {'maxiter':1000}\n",
    "n = X.shape[1]\n",
    "\n",
    "regular_params = [0, 50, 100, 200, 250, 300]\n",
    "fig, axes = plt.subplots(len(regular_params), 2, figsize=(10, 8))\n",
    "for idx, rp in enumerate(regular_params):\n",
    "    res = optimize.minimize(cost_function, np.zeros(n), (X, y, rp), jac=True, method='TNC', options=options)\n",
    "    cost = res.fun\n",
    "    theta = res.x\n",
    "    # Plot train data\n",
    "    ax = axes[idx][0]\n",
    "    ax.scatter(X[:,1], y)\n",
    "    ax.set_title('Lambda %d: Train' % rp)\n",
    "    x_0 = np.linspace(0, max(train_data[:,0]), 100)\n",
    "    X_0 = gen_X(x_0)\n",
    "    ax.plot(x_0, np.dot(X_0, theta.reshape((theta.shape[0], 1))), 'r')\n",
    "    # Plot test data\n",
    "    ax = axes[idx][1]\n",
    "    ax.set_title('Lambda %d: Test' % rp)\n",
    "    X_test = gen_X(test_data[:, 0], 5)\n",
    "    y_test = test_data[:, 1, np.newaxis]\n",
    "    ax.scatter(X_test[:, 1], y_test)\n",
    "    X_test_lin = gen_X(np.linspace(0, max(X_test[:, 1]), 100))\n",
    "    ax.plot(X_test_lin[:, 1], np.dot(X_test_lin, theta.reshape((theta.shape[0], 1))), 'r')\n",
    "fig.tight_layout()"
   ]
  },
  {
   "cell_type": "code",
   "execution_count": 60,
   "metadata": {},
   "outputs": [
    {
     "name": "stdout",
     "output_type": "stream",
     "text": [
      "[ 1  4  9 16 25] 55\n"
     ]
    }
   ],
   "source": [
    "a = np.array([1, 2, 3, 4, 5])\n",
    "print(a * a, sum(a * a))"
   ]
  }
 ],
 "metadata": {
  "kernelspec": {
   "display_name": "Python 3",
   "language": "python",
   "name": "python3"
  },
  "language_info": {
   "codemirror_mode": {
    "name": "ipython",
    "version": 3
   },
   "file_extension": ".py",
   "mimetype": "text/x-python",
   "name": "python",
   "nbconvert_exporter": "python",
   "pygments_lexer": "ipython3",
   "version": "3.8.5"
  }
 },
 "nbformat": 4,
 "nbformat_minor": 4
}
